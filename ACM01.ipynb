{
  "nbformat": 4,
  "nbformat_minor": 0,
  "metadata": {
    "colab": {
      "provenance": []
    },
    "kernelspec": {
      "name": "python3",
      "display_name": "Python 3"
    },
    "language_info": {
      "name": "python"
    }
  },
  "cells": [
    {
      "cell_type": "code",
      "execution_count": 2,
      "metadata": {
        "id": "4GnbmmSq793w"
      },
      "outputs": [],
      "source": [
        "import numpy as np \n",
        "import pandas as pd"
      ]
    },
    {
      "cell_type": "code",
      "source": [
        "data = pd.read_csv(\"city_day.csv\" )\n",
        "data.head()"
      ],
      "metadata": {
        "colab": {
          "base_uri": "https://localhost:8080/",
          "height": 206
        },
        "id": "aV3yiwuv8QOb",
        "outputId": "1c2f0cf6-3053-4862-82f1-5e0d8b66f166"
      },
      "execution_count": 3,
      "outputs": [
        {
          "output_type": "execute_result",
          "data": {
            "text/plain": [
              "        City        Date  PM2.5  PM10     NO    NO2    NOx  NH3     CO    SO2  \\\n",
              "0  Ahmedabad  2015-01-01    NaN   NaN   0.92  18.22  17.15  NaN   0.92  27.64   \n",
              "1  Ahmedabad  2015-01-02    NaN   NaN   0.97  15.69  16.46  NaN   0.97  24.55   \n",
              "2  Ahmedabad  2015-01-03    NaN   NaN  17.40  19.30  29.70  NaN  17.40  29.07   \n",
              "3  Ahmedabad  2015-01-04    NaN   NaN   1.70  18.48  17.97  NaN   1.70  18.59   \n",
              "4  Ahmedabad  2015-01-05    NaN   NaN  22.10  21.42  37.76  NaN  22.10  39.33   \n",
              "\n",
              "       O3  Benzene  Toluene  Xylene  AQI AQI_Bucket  \n",
              "0  133.36     0.00     0.02    0.00  NaN        NaN  \n",
              "1   34.06     3.68     5.50    3.77  NaN        NaN  \n",
              "2   30.70     6.80    16.40    2.25  NaN        NaN  \n",
              "3   36.08     4.43    10.14    1.00  NaN        NaN  \n",
              "4   39.31     7.01    18.89    2.78  NaN        NaN  "
            ],
            "text/html": [
              "\n",
              "  <div id=\"df-6c2382a7-3236-4958-84a5-39333ee2122e\">\n",
              "    <div class=\"colab-df-container\">\n",
              "      <div>\n",
              "<style scoped>\n",
              "    .dataframe tbody tr th:only-of-type {\n",
              "        vertical-align: middle;\n",
              "    }\n",
              "\n",
              "    .dataframe tbody tr th {\n",
              "        vertical-align: top;\n",
              "    }\n",
              "\n",
              "    .dataframe thead th {\n",
              "        text-align: right;\n",
              "    }\n",
              "</style>\n",
              "<table border=\"1\" class=\"dataframe\">\n",
              "  <thead>\n",
              "    <tr style=\"text-align: right;\">\n",
              "      <th></th>\n",
              "      <th>City</th>\n",
              "      <th>Date</th>\n",
              "      <th>PM2.5</th>\n",
              "      <th>PM10</th>\n",
              "      <th>NO</th>\n",
              "      <th>NO2</th>\n",
              "      <th>NOx</th>\n",
              "      <th>NH3</th>\n",
              "      <th>CO</th>\n",
              "      <th>SO2</th>\n",
              "      <th>O3</th>\n",
              "      <th>Benzene</th>\n",
              "      <th>Toluene</th>\n",
              "      <th>Xylene</th>\n",
              "      <th>AQI</th>\n",
              "      <th>AQI_Bucket</th>\n",
              "    </tr>\n",
              "  </thead>\n",
              "  <tbody>\n",
              "    <tr>\n",
              "      <th>0</th>\n",
              "      <td>Ahmedabad</td>\n",
              "      <td>2015-01-01</td>\n",
              "      <td>NaN</td>\n",
              "      <td>NaN</td>\n",
              "      <td>0.92</td>\n",
              "      <td>18.22</td>\n",
              "      <td>17.15</td>\n",
              "      <td>NaN</td>\n",
              "      <td>0.92</td>\n",
              "      <td>27.64</td>\n",
              "      <td>133.36</td>\n",
              "      <td>0.00</td>\n",
              "      <td>0.02</td>\n",
              "      <td>0.00</td>\n",
              "      <td>NaN</td>\n",
              "      <td>NaN</td>\n",
              "    </tr>\n",
              "    <tr>\n",
              "      <th>1</th>\n",
              "      <td>Ahmedabad</td>\n",
              "      <td>2015-01-02</td>\n",
              "      <td>NaN</td>\n",
              "      <td>NaN</td>\n",
              "      <td>0.97</td>\n",
              "      <td>15.69</td>\n",
              "      <td>16.46</td>\n",
              "      <td>NaN</td>\n",
              "      <td>0.97</td>\n",
              "      <td>24.55</td>\n",
              "      <td>34.06</td>\n",
              "      <td>3.68</td>\n",
              "      <td>5.50</td>\n",
              "      <td>3.77</td>\n",
              "      <td>NaN</td>\n",
              "      <td>NaN</td>\n",
              "    </tr>\n",
              "    <tr>\n",
              "      <th>2</th>\n",
              "      <td>Ahmedabad</td>\n",
              "      <td>2015-01-03</td>\n",
              "      <td>NaN</td>\n",
              "      <td>NaN</td>\n",
              "      <td>17.40</td>\n",
              "      <td>19.30</td>\n",
              "      <td>29.70</td>\n",
              "      <td>NaN</td>\n",
              "      <td>17.40</td>\n",
              "      <td>29.07</td>\n",
              "      <td>30.70</td>\n",
              "      <td>6.80</td>\n",
              "      <td>16.40</td>\n",
              "      <td>2.25</td>\n",
              "      <td>NaN</td>\n",
              "      <td>NaN</td>\n",
              "    </tr>\n",
              "    <tr>\n",
              "      <th>3</th>\n",
              "      <td>Ahmedabad</td>\n",
              "      <td>2015-01-04</td>\n",
              "      <td>NaN</td>\n",
              "      <td>NaN</td>\n",
              "      <td>1.70</td>\n",
              "      <td>18.48</td>\n",
              "      <td>17.97</td>\n",
              "      <td>NaN</td>\n",
              "      <td>1.70</td>\n",
              "      <td>18.59</td>\n",
              "      <td>36.08</td>\n",
              "      <td>4.43</td>\n",
              "      <td>10.14</td>\n",
              "      <td>1.00</td>\n",
              "      <td>NaN</td>\n",
              "      <td>NaN</td>\n",
              "    </tr>\n",
              "    <tr>\n",
              "      <th>4</th>\n",
              "      <td>Ahmedabad</td>\n",
              "      <td>2015-01-05</td>\n",
              "      <td>NaN</td>\n",
              "      <td>NaN</td>\n",
              "      <td>22.10</td>\n",
              "      <td>21.42</td>\n",
              "      <td>37.76</td>\n",
              "      <td>NaN</td>\n",
              "      <td>22.10</td>\n",
              "      <td>39.33</td>\n",
              "      <td>39.31</td>\n",
              "      <td>7.01</td>\n",
              "      <td>18.89</td>\n",
              "      <td>2.78</td>\n",
              "      <td>NaN</td>\n",
              "      <td>NaN</td>\n",
              "    </tr>\n",
              "  </tbody>\n",
              "</table>\n",
              "</div>\n",
              "      <button class=\"colab-df-convert\" onclick=\"convertToInteractive('df-6c2382a7-3236-4958-84a5-39333ee2122e')\"\n",
              "              title=\"Convert this dataframe to an interactive table.\"\n",
              "              style=\"display:none;\">\n",
              "        \n",
              "  <svg xmlns=\"http://www.w3.org/2000/svg\" height=\"24px\"viewBox=\"0 0 24 24\"\n",
              "       width=\"24px\">\n",
              "    <path d=\"M0 0h24v24H0V0z\" fill=\"none\"/>\n",
              "    <path d=\"M18.56 5.44l.94 2.06.94-2.06 2.06-.94-2.06-.94-.94-2.06-.94 2.06-2.06.94zm-11 1L8.5 8.5l.94-2.06 2.06-.94-2.06-.94L8.5 2.5l-.94 2.06-2.06.94zm10 10l.94 2.06.94-2.06 2.06-.94-2.06-.94-.94-2.06-.94 2.06-2.06.94z\"/><path d=\"M17.41 7.96l-1.37-1.37c-.4-.4-.92-.59-1.43-.59-.52 0-1.04.2-1.43.59L10.3 9.45l-7.72 7.72c-.78.78-.78 2.05 0 2.83L4 21.41c.39.39.9.59 1.41.59.51 0 1.02-.2 1.41-.59l7.78-7.78 2.81-2.81c.8-.78.8-2.07 0-2.86zM5.41 20L4 18.59l7.72-7.72 1.47 1.35L5.41 20z\"/>\n",
              "  </svg>\n",
              "      </button>\n",
              "      \n",
              "  <style>\n",
              "    .colab-df-container {\n",
              "      display:flex;\n",
              "      flex-wrap:wrap;\n",
              "      gap: 12px;\n",
              "    }\n",
              "\n",
              "    .colab-df-convert {\n",
              "      background-color: #E8F0FE;\n",
              "      border: none;\n",
              "      border-radius: 50%;\n",
              "      cursor: pointer;\n",
              "      display: none;\n",
              "      fill: #1967D2;\n",
              "      height: 32px;\n",
              "      padding: 0 0 0 0;\n",
              "      width: 32px;\n",
              "    }\n",
              "\n",
              "    .colab-df-convert:hover {\n",
              "      background-color: #E2EBFA;\n",
              "      box-shadow: 0px 1px 2px rgba(60, 64, 67, 0.3), 0px 1px 3px 1px rgba(60, 64, 67, 0.15);\n",
              "      fill: #174EA6;\n",
              "    }\n",
              "\n",
              "    [theme=dark] .colab-df-convert {\n",
              "      background-color: #3B4455;\n",
              "      fill: #D2E3FC;\n",
              "    }\n",
              "\n",
              "    [theme=dark] .colab-df-convert:hover {\n",
              "      background-color: #434B5C;\n",
              "      box-shadow: 0px 1px 3px 1px rgba(0, 0, 0, 0.15);\n",
              "      filter: drop-shadow(0px 1px 2px rgba(0, 0, 0, 0.3));\n",
              "      fill: #FFFFFF;\n",
              "    }\n",
              "  </style>\n",
              "\n",
              "      <script>\n",
              "        const buttonEl =\n",
              "          document.querySelector('#df-6c2382a7-3236-4958-84a5-39333ee2122e button.colab-df-convert');\n",
              "        buttonEl.style.display =\n",
              "          google.colab.kernel.accessAllowed ? 'block' : 'none';\n",
              "\n",
              "        async function convertToInteractive(key) {\n",
              "          const element = document.querySelector('#df-6c2382a7-3236-4958-84a5-39333ee2122e');\n",
              "          const dataTable =\n",
              "            await google.colab.kernel.invokeFunction('convertToInteractive',\n",
              "                                                     [key], {});\n",
              "          if (!dataTable) return;\n",
              "\n",
              "          const docLinkHtml = 'Like what you see? Visit the ' +\n",
              "            '<a target=\"_blank\" href=https://colab.research.google.com/notebooks/data_table.ipynb>data table notebook</a>'\n",
              "            + ' to learn more about interactive tables.';\n",
              "          element.innerHTML = '';\n",
              "          dataTable['output_type'] = 'display_data';\n",
              "          await google.colab.output.renderOutput(dataTable, element);\n",
              "          const docLink = document.createElement('div');\n",
              "          docLink.innerHTML = docLinkHtml;\n",
              "          element.appendChild(docLink);\n",
              "        }\n",
              "      </script>\n",
              "    </div>\n",
              "  </div>\n",
              "  "
            ]
          },
          "metadata": {},
          "execution_count": 3
        }
      ]
    },
    {
      "cell_type": "code",
      "source": [
        "data.info()"
      ],
      "metadata": {
        "colab": {
          "base_uri": "https://localhost:8080/"
        },
        "id": "udrRZQNs8UHo",
        "outputId": "1b0aa932-8043-4094-88ec-e9956d241033"
      },
      "execution_count": 4,
      "outputs": [
        {
          "output_type": "stream",
          "name": "stdout",
          "text": [
            "<class 'pandas.core.frame.DataFrame'>\n",
            "RangeIndex: 29531 entries, 0 to 29530\n",
            "Data columns (total 16 columns):\n",
            " #   Column      Non-Null Count  Dtype  \n",
            "---  ------      --------------  -----  \n",
            " 0   City        29531 non-null  object \n",
            " 1   Date        29531 non-null  object \n",
            " 2   PM2.5       24933 non-null  float64\n",
            " 3   PM10        18391 non-null  float64\n",
            " 4   NO          25949 non-null  float64\n",
            " 5   NO2         25946 non-null  float64\n",
            " 6   NOx         25346 non-null  float64\n",
            " 7   NH3         19203 non-null  float64\n",
            " 8   CO          27472 non-null  float64\n",
            " 9   SO2         25677 non-null  float64\n",
            " 10  O3          25509 non-null  float64\n",
            " 11  Benzene     23908 non-null  float64\n",
            " 12  Toluene     21490 non-null  float64\n",
            " 13  Xylene      11422 non-null  float64\n",
            " 14  AQI         24850 non-null  float64\n",
            " 15  AQI_Bucket  24850 non-null  object \n",
            "dtypes: float64(13), object(3)\n",
            "memory usage: 3.6+ MB\n"
          ]
        }
      ]
    },
    {
      "cell_type": "code",
      "source": [
        "column = data.columns\n",
        "column"
      ],
      "metadata": {
        "colab": {
          "base_uri": "https://localhost:8080/"
        },
        "id": "afU8cx2R8XBA",
        "outputId": "327b8ca7-e25f-447a-fd8a-d1b6ab0005ff"
      },
      "execution_count": 5,
      "outputs": [
        {
          "output_type": "execute_result",
          "data": {
            "text/plain": [
              "Index(['City', 'Date', 'PM2.5', 'PM10', 'NO', 'NO2', 'NOx', 'NH3', 'CO', 'SO2',\n",
              "       'O3', 'Benzene', 'Toluene', 'Xylene', 'AQI', 'AQI_Bucket'],\n",
              "      dtype='object')"
            ]
          },
          "metadata": {},
          "execution_count": 5
        }
      ]
    },
    {
      "cell_type": "code",
      "source": [
        "column_fill = ['PM2.5', 'PM10', 'NO', 'NO2', 'NOx', 'NH3', 'CO', 'SO2',\n",
        "       'O3', 'Benzene', 'Toluene', 'Xylene','AQI']"
      ],
      "metadata": {
        "id": "R1f9X7z98j7O"
      },
      "execution_count": 6,
      "outputs": []
    },
    {
      "cell_type": "code",
      "source": [
        "for column in column_fill:\n",
        "    data[column] = data[column].fillna(data[column].mean())"
      ],
      "metadata": {
        "id": "skQZUGfc8mED"
      },
      "execution_count": 7,
      "outputs": []
    },
    {
      "cell_type": "code",
      "source": [
        "data['Air_Quality'] = data['AQI_Bucket'].fillna('Moderate')\n",
        "data.drop('AQI_Bucket',axis=1,inplace =True)"
      ],
      "metadata": {
        "id": "2I_cWe6394sx"
      },
      "execution_count": 8,
      "outputs": []
    },
    {
      "cell_type": "code",
      "source": [
        "city_AQI = data[['City','AQI']].groupby(['City']).mean().sort_values(['AQI']).reset_index()"
      ],
      "metadata": {
        "id": "9RT5c9MY83oF"
      },
      "execution_count": 9,
      "outputs": []
    },
    {
      "cell_type": "code",
      "source": [
        "pmmean10=data[\"PM10\"].mean()\n",
        "data[\"PM10\"].fillna(pmmean10,inplace=True)"
      ],
      "metadata": {
        "id": "UCmMtlTGiDL0"
      },
      "execution_count": 10,
      "outputs": []
    },
    {
      "cell_type": "code",
      "source": [
        "nhmean3=data[\"NH3\"].mean()\n",
        "data[\"NH3\"].fillna(nhmean3,inplace=True)\n",
        "cmeano=data[\"CO\"].mean()\n",
        "data[\"CO\"].fillna(cmeano,inplace=True)"
      ],
      "metadata": {
        "id": "gyHULgu6iOKV"
      },
      "execution_count": 11,
      "outputs": []
    },
    {
      "cell_type": "code",
      "source": [
        "smeano=data[\"SO2\"].mean()\n",
        "data[\"SO2\"].fillna(smeano,inplace=True)\n",
        "omean3=data[\"O3\"].mean()\n",
        "data[\"O3\"].fillna(omean3,inplace=True)\n",
        "bmeane=data[\"Benzene\"].mean()\n",
        "data[\"Benzene\"].fillna(bmeane,inplace=True)\n",
        "tmeanene=data[\"Toluene\"].mean()\n",
        "data[\"Toluene\"].fillna(tmeanene,inplace=True)\n",
        "xmeany=data[\"Xylene\"].mean()\n",
        "data[\"Xylene\"].fillna(xmeany,inplace=True)\n",
        "ameani=data[\"AQI\"].mean()\n",
        "data[\"AQI\"].fillna(ameani,inplace=True)"
      ],
      "metadata": {
        "id": "hQFK7J_biZds"
      },
      "execution_count": 12,
      "outputs": []
    },
    {
      "cell_type": "code",
      "source": [
        "import matplotlib.pyplot as pt1\n",
        "%matplotlib inline\n",
        "import seaborn as sn"
      ],
      "metadata": {
        "id": "WtB2sEW_Qg9T"
      },
      "execution_count": 13,
      "outputs": []
    },
    {
      "cell_type": "code",
      "source": [
        "pt1.scatter(data.CO,data.AQI,color='red',marker='.')\n",
        "pt1.plot(data.NO,data.AQI,)\n",
        "pt1.plot"
      ],
      "metadata": {
        "colab": {
          "base_uri": "https://localhost:8080/",
          "height": 283
        },
        "id": "T1AIccYPipuT",
        "outputId": "4bf27d87-1f05-4f1f-cb47-0e12a32b7879"
      },
      "execution_count": 14,
      "outputs": [
        {
          "output_type": "execute_result",
          "data": {
            "text/plain": [
              "<function matplotlib.pyplot.plot(*args, scalex=True, scaley=True, data=None, **kwargs)>"
            ]
          },
          "metadata": {},
          "execution_count": 14
        },
        {
          "output_type": "display_data",
          "data": {
            "text/plain": [
              "<Figure size 432x288 with 1 Axes>"
            ],
            "image/png": "[encoded data removed]"
          },
          "metadata": {
            "needs_background": "light"
          }
        }
      ]
    },
    {
      "cell_type": "code",
      "source": [
        "x=data.iloc[:,2:13].values\n",
        "y=data.iloc[:,-2].values"
      ],
      "metadata": {
        "id": "-r5mRL5ri4PJ"
      },
      "execution_count": 15,
      "outputs": []
    },
    {
      "cell_type": "code",
      "source": [
        "x"
      ],
      "metadata": {
        "colab": {
          "base_uri": "https://localhost:8080/"
        },
        "id": "dMHDTNOJjA4g",
        "outputId": "03e70b99-e6a8-4e83-8053-ea3e8eab4451"
      },
      "execution_count": 16,
      "outputs": [
        {
          "output_type": "execute_result",
          "data": {
            "text/plain": [
              "array([[6.74505779e+01, 1.18127103e+02, 9.20000000e-01, ...,\n",
              "        1.33360000e+02, 0.00000000e+00, 2.00000000e-02],\n",
              "       [6.74505779e+01, 1.18127103e+02, 9.70000000e-01, ...,\n",
              "        3.40600000e+01, 3.68000000e+00, 5.50000000e+00],\n",
              "       [6.74505779e+01, 1.18127103e+02, 1.74000000e+01, ...,\n",
              "        3.07000000e+01, 6.80000000e+00, 1.64000000e+01],\n",
              "       ...,\n",
              "       [2.29100000e+01, 6.57300000e+01, 3.45000000e+00, ...,\n",
              "        3.09600000e+01, 1.00000000e-02, 1.00000000e-02],\n",
              "       [1.66400000e+01, 4.99700000e+01, 4.05000000e+00, ...,\n",
              "        2.83000000e+01, 0.00000000e+00, 0.00000000e+00],\n",
              "       [1.50000000e+01, 6.60000000e+01, 4.00000000e-01, ...,\n",
              "        1.70500000e+01, 3.28084030e+00, 8.70097208e+00]])"
            ]
          },
          "metadata": {},
          "execution_count": 16
        }
      ]
    },
    {
      "cell_type": "code",
      "source": [
        "y"
      ],
      "metadata": {
        "colab": {
          "base_uri": "https://localhost:8080/"
        },
        "id": "D5Os9_z-jDXp",
        "outputId": "2ef8ee5f-b4e6-4aa5-f646-00ba807256bf"
      },
      "execution_count": 17,
      "outputs": [
        {
          "output_type": "execute_result",
          "data": {
            "text/plain": [
              "array([166.46358149, 166.46358149, 166.46358149, ...,  68.        ,\n",
              "        54.        ,  50.        ])"
            ]
          },
          "metadata": {},
          "execution_count": 17
        }
      ]
    },
    {
      "cell_type": "markdown",
      "source": [
        "Creating the linear regression object"
      ],
      "metadata": {
        "id": "2i64-V9rqRrk"
      }
    },
    {
      "cell_type": "code",
      "source": [
        "from sklearn import linear_model\n",
        "model1=linear_model.LinearRegression()\n",
        "model1.fit(x,y)"
      ],
      "metadata": {
        "colab": {
          "base_uri": "https://localhost:8080/"
        },
        "id": "_j_-HXxFjFhW",
        "outputId": "269ea8f7-18d6-40cc-e02c-8d9d306c71ba"
      },
      "execution_count": 18,
      "outputs": [
        {
          "output_type": "execute_result",
          "data": {
            "text/plain": [
              "LinearRegression()"
            ]
          },
          "metadata": {},
          "execution_count": 18
        }
      ]
    },
    {
      "cell_type": "code",
      "source": [
        "model1.predict([[67.450578,118.127103,0.97,15.69,16.46,23.483476,0.97,24.55,34.06,3.68000,5.500000]])"
      ],
      "metadata": {
        "colab": {
          "base_uri": "https://localhost:8080/"
        },
        "id": "_z4oKHU3jsoy",
        "outputId": "b0daa786-d0f8-41ee-bf3f-7911d2817c1e"
      },
      "execution_count": 19,
      "outputs": [
        {
          "output_type": "execute_result",
          "data": {
            "text/plain": [
              "array([152.71532406])"
            ]
          },
          "metadata": {},
          "execution_count": 19
        }
      ]
    },
    {
      "cell_type": "markdown",
      "source": [
        "Predict the AQI"
      ],
      "metadata": {
        "id": "9CUUgoMlq5kG"
      }
    },
    {
      "cell_type": "code",
      "source": [
        "a=model1.coef_\n",
        "b=model1.intercept_\n",
        "y_prediction=a*x+b\n",
        "y_prediction"
      ],
      "metadata": {
        "colab": {
          "base_uri": "https://localhost:8080/"
        },
        "id": "vlwklGXMjudI",
        "outputId": "5792c73f-3b9b-4355-b159-620b0913ae2d"
      },
      "execution_count": 20,
      "outputs": [
        {
          "output_type": "execute_result",
          "data": {
            "text/plain": [
              "array([[81.3682192 , 47.96751693, 15.17641515, ..., 40.97605866,\n",
              "        15.22503503, 15.22789089],\n",
              "       [81.3682192 , 47.96751693, 15.17377277, ..., 21.80181866,\n",
              "        14.46158005, 16.01039588],\n",
              "       [81.3682192 , 47.96751693, 14.30548507, ..., 21.15302263,\n",
              "        13.814303  , 17.56683827],\n",
              "       ...,\n",
              "       [37.69097077, 33.44408284, 15.04271047, ..., 21.20322708,\n",
              "        15.22296043, 15.22646296],\n",
              "       [31.5425021 , 29.0757245 , 15.01100185, ..., 20.68959689,\n",
              "        15.22503503, 15.22503503],\n",
              "       [29.93429021, 33.51892146, 15.20389595, ..., 18.51728873,\n",
              "        14.54438996, 16.4674719 ]])"
            ]
          },
          "metadata": {},
          "execution_count": 20
        }
      ]
    },
    {
      "cell_type": "markdown",
      "source": [
        "By using AQI, Visualization is done"
      ],
      "metadata": {
        "id": "_eoWnusTrGHJ"
      }
    },
    {
      "cell_type": "code",
      "source": [
        "pt1.figure(figsize=(20,10))\n",
        "sn.set(font_scale=1)\n",
        "sn.barplot(x='City', y='AQI', data=city_AQI).set(title ='Cities and its  AQI')\n",
        "color = 'Red'\n",
        "pt1.xticks(rotation=80)\n",
        "pt1.show()"
      ],
      "metadata": {
        "colab": {
          "base_uri": "https://localhost:8080/",
          "height": 733
        },
        "id": "wzCERD-Y_T0e",
        "outputId": "dd89a148-be1e-48c6-a866-0efeea31f06f"
      },
      "execution_count": 21,
      "outputs": [
        {
          "output_type": "display_data",
          "data": {
            "text/plain": [
              "<Figure size 1440x720 with 1 Axes>"
            ],
            "image/png": "[encoded data removed]"
          },
          "metadata": {
            "needs_background": "light"
          }
        }
      ]
    },
    {
      "cell_type": "code",
      "source": [
        "most_polluted_cities = data[[ 'City','PM10', 'AQI','PM2.5','NO2']].groupby(['City']).mean().sort_values(by = 'AQI', ascending = False)\n",
        "most_polluted_cities"
      ],
      "metadata": {
        "colab": {
          "base_uri": "https://localhost:8080/",
          "height": 896
        },
        "id": "M2vmc8ToHD9f",
        "outputId": "40bd1946-ae83-40d4-ba55-e4eff51698fd"
      },
      "execution_count": 22,
      "outputs": [
        {
          "output_type": "execute_result",
          "data": {
            "text/plain": [
              "                          PM10         AQI       PM2.5        NO2\n",
              "City                                                             \n",
              "Ahmedabad           117.409318  356.144807   67.728234  49.805675\n",
              "Delhi               228.413747  259.024707  117.146631  50.763057\n",
              "Patna               119.013316  224.822373  113.815353  36.507494\n",
              "Gurugram            150.467320  217.227975  112.549731  23.797951\n",
              "Lucknow             118.127103  214.998893  107.568277  33.188450\n",
              "Talcher             156.552639  171.310522   62.607920  17.343337\n",
              "Jorapokhar          142.240508  161.707019   66.406088  13.781598\n",
              "Brajrajnagar        123.094114  154.162373   64.726798  19.524152\n",
              "Mumbai              110.006396  142.889029   54.864359  27.429689\n",
              "Kolkata             115.798256  142.475203   64.571464  40.032711\n",
              "Guwahati            116.604900  140.478576   63.692929  13.598607\n",
              "Jaipur              123.416193  134.267748   54.640204  32.370143\n",
              "Bhopal              119.287038  134.107610   50.601160  31.258602\n",
              "Visakhapatnam       107.916796  127.061493   50.191650  35.728846\n",
              "Amritsar            115.353495  123.542211   56.724459  18.883865\n",
              "Chennai             109.815308  117.735663   51.417112  17.067334\n",
              "Hyderabad            96.567339  112.803794   48.205721  28.389182\n",
              "Kochi                67.335432  105.820088   31.428519  15.449963\n",
              "Amaravati            78.777456  103.531014   39.614400  22.545012\n",
              "Bengaluru            89.494244   97.873516   38.118529  27.996732\n",
              "Chandigarh           85.656546   97.649072   42.428943  11.834088\n",
              "Ernakulam            50.058879   96.476372   25.994274  12.157631\n",
              "Shillong             59.099258   91.957020   38.385603   7.663125\n",
              "Coimbatore           39.435543   83.190338   29.945349  28.778153\n",
              "Thiruvananthapuram   55.093885   80.766021   29.525274   9.914812\n",
              "Aizawl               24.191567   37.096701   18.020630   0.388496"
            ],
            "text/html": [
              "\n",
              "  <div id=\"df-a67c8f6a-c113-421b-8a5e-fbb1fa49dcd5\">\n",
              "    <div class=\"colab-df-container\">\n",
              "      <div>\n",
              "<style scoped>\n",
              "    .dataframe tbody tr th:only-of-type {\n",
              "        vertical-align: middle;\n",
              "    }\n",
              "\n",
              "    .dataframe tbody tr th {\n",
              "        vertical-align: top;\n",
              "    }\n",
              "\n",
              "    .dataframe thead th {\n",
              "        text-align: right;\n",
              "    }\n",
              "</style>\n",
              "<table border=\"1\" class=\"dataframe\">\n",
              "  <thead>\n",
              "    <tr style=\"text-align: right;\">\n",
              "      <th></th>\n",
              "      <th>PM10</th>\n",
              "      <th>AQI</th>\n",
              "      <th>PM2.5</th>\n",
              "      <th>NO2</th>\n",
              "    </tr>\n",
              "    <tr>\n",
              "      <th>City</th>\n",
              "      <th></th>\n",
              "      <th></th>\n",
              "      <th></th>\n",
              "      <th></th>\n",
              "    </tr>\n",
              "  </thead>\n",
              "  <tbody>\n",
              "    <tr>\n",
              "      <th>Ahmedabad</th>\n",
              "      <td>117.409318</td>\n",
              "      <td>356.144807</td>\n",
              "      <td>67.728234</td>\n",
              "      <td>49.805675</td>\n",
              "    </tr>\n",
              "    <tr>\n",
              "      <th>Delhi</th>\n",
              "      <td>228.413747</td>\n",
              "      <td>259.024707</td>\n",
              "      <td>117.146631</td>\n",
              "      <td>50.763057</td>\n",
              "    </tr>\n",
              "    <tr>\n",
              "      <th>Patna</th>\n",
              "      <td>119.013316</td>\n",
              "      <td>224.822373</td>\n",
              "      <td>113.815353</td>\n",
              "      <td>36.507494</td>\n",
              "    </tr>\n",
              "    <tr>\n",
              "      <th>Gurugram</th>\n",
              "      <td>150.467320</td>\n",
              "      <td>217.227975</td>\n",
              "      <td>112.549731</td>\n",
              "      <td>23.797951</td>\n",
              "    </tr>\n",
              "    <tr>\n",
              "      <th>Lucknow</th>\n",
              "      <td>118.127103</td>\n",
              "      <td>214.998893</td>\n",
              "      <td>107.568277</td>\n",
              "      <td>33.188450</td>\n",
              "    </tr>\n",
              "    <tr>\n",
              "      <th>Talcher</th>\n",
              "      <td>156.552639</td>\n",
              "      <td>171.310522</td>\n",
              "      <td>62.607920</td>\n",
              "      <td>17.343337</td>\n",
              "    </tr>\n",
              "    <tr>\n",
              "      <th>Jorapokhar</th>\n",
              "      <td>142.240508</td>\n",
              "      <td>161.707019</td>\n",
              "      <td>66.406088</td>\n",
              "      <td>13.781598</td>\n",
              "    </tr>\n",
              "    <tr>\n",
              "      <th>Brajrajnagar</th>\n",
              "      <td>123.094114</td>\n",
              "      <td>154.162373</td>\n",
              "      <td>64.726798</td>\n",
              "      <td>19.524152</td>\n",
              "    </tr>\n",
              "    <tr>\n",
              "      <th>Mumbai</th>\n",
              "      <td>110.006396</td>\n",
              "      <td>142.889029</td>\n",
              "      <td>54.864359</td>\n",
              "      <td>27.429689</td>\n",
              "    </tr>\n",
              "    <tr>\n",
              "      <th>Kolkata</th>\n",
              "      <td>115.798256</td>\n",
              "      <td>142.475203</td>\n",
              "      <td>64.571464</td>\n",
              "      <td>40.032711</td>\n",
              "    </tr>\n",
              "    <tr>\n",
              "      <th>Guwahati</th>\n",
              "      <td>116.604900</td>\n",
              "      <td>140.478576</td>\n",
              "      <td>63.692929</td>\n",
              "      <td>13.598607</td>\n",
              "    </tr>\n",
              "    <tr>\n",
              "      <th>Jaipur</th>\n",
              "      <td>123.416193</td>\n",
              "      <td>134.267748</td>\n",
              "      <td>54.640204</td>\n",
              "      <td>32.370143</td>\n",
              "    </tr>\n",
              "    <tr>\n",
              "      <th>Bhopal</th>\n",
              "      <td>119.287038</td>\n",
              "      <td>134.107610</td>\n",
              "      <td>50.601160</td>\n",
              "      <td>31.258602</td>\n",
              "    </tr>\n",
              "    <tr>\n",
              "      <th>Visakhapatnam</th>\n",
              "      <td>107.916796</td>\n",
              "      <td>127.061493</td>\n",
              "      <td>50.191650</td>\n",
              "      <td>35.728846</td>\n",
              "    </tr>\n",
              "    <tr>\n",
              "      <th>Amritsar</th>\n",
              "      <td>115.353495</td>\n",
              "      <td>123.542211</td>\n",
              "      <td>56.724459</td>\n",
              "      <td>18.883865</td>\n",
              "    </tr>\n",
              "    <tr>\n",
              "      <th>Chennai</th>\n",
              "      <td>109.815308</td>\n",
              "      <td>117.735663</td>\n",
              "      <td>51.417112</td>\n",
              "      <td>17.067334</td>\n",
              "    </tr>\n",
              "    <tr>\n",
              "      <th>Hyderabad</th>\n",
              "      <td>96.567339</td>\n",
              "      <td>112.803794</td>\n",
              "      <td>48.205721</td>\n",
              "      <td>28.389182</td>\n",
              "    </tr>\n",
              "    <tr>\n",
              "      <th>Kochi</th>\n",
              "      <td>67.335432</td>\n",
              "      <td>105.820088</td>\n",
              "      <td>31.428519</td>\n",
              "      <td>15.449963</td>\n",
              "    </tr>\n",
              "    <tr>\n",
              "      <th>Amaravati</th>\n",
              "      <td>78.777456</td>\n",
              "      <td>103.531014</td>\n",
              "      <td>39.614400</td>\n",
              "      <td>22.545012</td>\n",
              "    </tr>\n",
              "    <tr>\n",
              "      <th>Bengaluru</th>\n",
              "      <td>89.494244</td>\n",
              "      <td>97.873516</td>\n",
              "      <td>38.118529</td>\n",
              "      <td>27.996732</td>\n",
              "    </tr>\n",
              "    <tr>\n",
              "      <th>Chandigarh</th>\n",
              "      <td>85.656546</td>\n",
              "      <td>97.649072</td>\n",
              "      <td>42.428943</td>\n",
              "      <td>11.834088</td>\n",
              "    </tr>\n",
              "    <tr>\n",
              "      <th>Ernakulam</th>\n",
              "      <td>50.058879</td>\n",
              "      <td>96.476372</td>\n",
              "      <td>25.994274</td>\n",
              "      <td>12.157631</td>\n",
              "    </tr>\n",
              "    <tr>\n",
              "      <th>Shillong</th>\n",
              "      <td>59.099258</td>\n",
              "      <td>91.957020</td>\n",
              "      <td>38.385603</td>\n",
              "      <td>7.663125</td>\n",
              "    </tr>\n",
              "    <tr>\n",
              "      <th>Coimbatore</th>\n",
              "      <td>39.435543</td>\n",
              "      <td>83.190338</td>\n",
              "      <td>29.945349</td>\n",
              "      <td>28.778153</td>\n",
              "    </tr>\n",
              "    <tr>\n",
              "      <th>Thiruvananthapuram</th>\n",
              "      <td>55.093885</td>\n",
              "      <td>80.766021</td>\n",
              "      <td>29.525274</td>\n",
              "      <td>9.914812</td>\n",
              "    </tr>\n",
              "    <tr>\n",
              "      <th>Aizawl</th>\n",
              "      <td>24.191567</td>\n",
              "      <td>37.096701</td>\n",
              "      <td>18.020630</td>\n",
              "      <td>0.388496</td>\n",
              "    </tr>\n",
              "  </tbody>\n",
              "</table>\n",
              "</div>\n",
              "      <button class=\"colab-df-convert\" onclick=\"convertToInteractive('df-a67c8f6a-c113-421b-8a5e-fbb1fa49dcd5')\"\n",
              "              title=\"Convert this dataframe to an interactive table.\"\n",
              "              style=\"display:none;\">\n",
              "        \n",
              "  <svg xmlns=\"http://www.w3.org/2000/svg\" height=\"24px\"viewBox=\"0 0 24 24\"\n",
              "       width=\"24px\">\n",
              "    <path d=\"M0 0h24v24H0V0z\" fill=\"none\"/>\n",
              "    <path d=\"M18.56 5.44l.94 2.06.94-2.06 2.06-.94-2.06-.94-.94-2.06-.94 2.06-2.06.94zm-11 1L8.5 8.5l.94-2.06 2.06-.94-2.06-.94L8.5 2.5l-.94 2.06-2.06.94zm10 10l.94 2.06.94-2.06 2.06-.94-2.06-.94-.94-2.06-.94 2.06-2.06.94z\"/><path d=\"M17.41 7.96l-1.37-1.37c-.4-.4-.92-.59-1.43-.59-.52 0-1.04.2-1.43.59L10.3 9.45l-7.72 7.72c-.78.78-.78 2.05 0 2.83L4 21.41c.39.39.9.59 1.41.59.51 0 1.02-.2 1.41-.59l7.78-7.78 2.81-2.81c.8-.78.8-2.07 0-2.86zM5.41 20L4 18.59l7.72-7.72 1.47 1.35L5.41 20z\"/>\n",
              "  </svg>\n",
              "      </button>\n",
              "      \n",
              "  <style>\n",
              "    .colab-df-container {\n",
              "      display:flex;\n",
              "      flex-wrap:wrap;\n",
              "      gap: 12px;\n",
              "    }\n",
              "\n",
              "    .colab-df-convert {\n",
              "      background-color: #E8F0FE;\n",
              "      border: none;\n",
              "      border-radius: 50%;\n",
              "      cursor: pointer;\n",
              "      display: none;\n",
              "      fill: #1967D2;\n",
              "      height: 32px;\n",
              "      padding: 0 0 0 0;\n",
              "      width: 32px;\n",
              "    }\n",
              "\n",
              "    .colab-df-convert:hover {\n",
              "      background-color: #E2EBFA;\n",
              "      box-shadow: 0px 1px 2px rgba(60, 64, 67, 0.3), 0px 1px 3px 1px rgba(60, 64, 67, 0.15);\n",
              "      fill: #174EA6;\n",
              "    }\n",
              "\n",
              "    [theme=dark] .colab-df-convert {\n",
              "      background-color: #3B4455;\n",
              "      fill: #D2E3FC;\n",
              "    }\n",
              "\n",
              "    [theme=dark] .colab-df-convert:hover {\n",
              "      background-color: #434B5C;\n",
              "      box-shadow: 0px 1px 3px 1px rgba(0, 0, 0, 0.15);\n",
              "      filter: drop-shadow(0px 1px 2px rgba(0, 0, 0, 0.3));\n",
              "      fill: #FFFFFF;\n",
              "    }\n",
              "  </style>\n",
              "\n",
              "      <script>\n",
              "        const buttonEl =\n",
              "          document.querySelector('#df-a67c8f6a-c113-421b-8a5e-fbb1fa49dcd5 button.colab-df-convert');\n",
              "        buttonEl.style.display =\n",
              "          google.colab.kernel.accessAllowed ? 'block' : 'none';\n",
              "\n",
              "        async function convertToInteractive(key) {\n",
              "          const element = document.querySelector('#df-a67c8f6a-c113-421b-8a5e-fbb1fa49dcd5');\n",
              "          const dataTable =\n",
              "            await google.colab.kernel.invokeFunction('convertToInteractive',\n",
              "                                                     [key], {});\n",
              "          if (!dataTable) return;\n",
              "\n",
              "          const docLinkHtml = 'Like what you see? Visit the ' +\n",
              "            '<a target=\"_blank\" href=https://colab.research.google.com/notebooks/data_table.ipynb>data table notebook</a>'\n",
              "            + ' to learn more about interactive tables.';\n",
              "          element.innerHTML = '';\n",
              "          dataTable['output_type'] = 'display_data';\n",
              "          await google.colab.output.renderOutput(dataTable, element);\n",
              "          const docLink = document.createElement('div');\n",
              "          docLink.innerHTML = docLinkHtml;\n",
              "          element.appendChild(docLink);\n",
              "        }\n",
              "      </script>\n",
              "    </div>\n",
              "  </div>\n",
              "  "
            ]
          },
          "metadata": {},
          "execution_count": 22
        }
      ]
    },
    {
      "cell_type": "code",
      "source": [
        "import matplotlib.pyplot as pt1\n",
        "\n",
        "pt1.style.use('seaborn-whitegrid')\n",
        "f1, ax_ = pt1.subplots(1, 3, figsize = (15,25))\n",
        "\n",
        "bar = sn.barplot(x = most_polluted_cities.AQI,y = most_polluted_cities.index,\n",
        "                   palette = 'Blues_r',\n",
        "                   ax = ax_[0]);\n",
        "\n",
        "bar = sn.barplot(x = most_polluted_cities.PM10, y = most_polluted_cities.index,\n",
        "                   palette = 'Blues_r',\n",
        "                   ax = ax_[1]);\n",
        "\n",
        "bar = sn.barplot(x = most_polluted_cities.NO2,y = most_polluted_cities.index,\n",
        "                   palette = 'Blues_r',\n",
        "                   ax = ax_[2]);\n",
        "titles = ['AQI', 'PM10','NO2']\n",
        "for i in range(3) :\n",
        "    ax_[i].set_yticklabels(labels = ax_[i].get_yticklabels(),fontsize = 10);\n",
        "  "
      ],
      "metadata": {
        "colab": {
          "base_uri": "https://localhost:8080/",
          "height": 1000
        },
        "id": "nfyAP_RiJbeY",
        "outputId": "c85c1237-dce1-4d87-988a-1a0701408fc8"
      },
      "execution_count": 23,
      "outputs": [
        {
          "output_type": "display_data",
          "data": {
            "text/plain": [
              "<Figure size 1080x1800 with 3 Axes>"
            ],
            "image/png": "[encoded data removed]"
          },
          "metadata": {}
        }
      ]
    }
  ]
}